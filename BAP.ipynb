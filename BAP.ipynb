{
  "nbformat": 4,
  "nbformat_minor": 0,
  "metadata": {
    "colab": {
      "name": "BAP.ipynb",
      "provenance": []
    },
    "kernelspec": {
      "name": "python3",
      "display_name": "Python 3"
    },
    "language_info": {
      "name": "python"
    }
  },
  "cells": [
    {
      "cell_type": "code",
      "metadata": {
        "id": "KmRlgrSqidyG"
      },
      "source": [
        "from sklearn.linear_model import LinearRegression"
      ],
      "execution_count": null,
      "outputs": []
    },
    {
      "cell_type": "code",
      "metadata": {
        "id": "QWkiVFEWiklb"
      },
      "source": [
        "import numpy as np"
      ],
      "execution_count": null,
      "outputs": []
    },
    {
      "cell_type": "code",
      "metadata": {
        "id": "HXNDQa0IuVzi"
      },
      "source": [
        "import pandas as pd"
      ],
      "execution_count": null,
      "outputs": []
    },
    {
      "cell_type": "code",
      "metadata": {
        "id": "8WaI_6AbuYPH"
      },
      "source": [
        "df = pd.read_csv('test_data.csv')"
      ],
      "execution_count": null,
      "outputs": []
    },
    {
      "cell_type": "code",
      "metadata": {
        "colab": {
          "base_uri": "https://localhost:8080/",
          "height": 204
        },
        "id": "YBVworjaug2V",
        "outputId": "bf6ef945-63a3-4d60-9f92-b7add022a8bc"
      },
      "source": [
        "df.head()"
      ],
      "execution_count": null,
      "outputs": [
        {
          "output_type": "execute_result",
          "data": {
            "text/html": [
              "<div>\n",
              "<style scoped>\n",
              "    .dataframe tbody tr th:only-of-type {\n",
              "        vertical-align: middle;\n",
              "    }\n",
              "\n",
              "    .dataframe tbody tr th {\n",
              "        vertical-align: top;\n",
              "    }\n",
              "\n",
              "    .dataframe thead th {\n",
              "        text-align: right;\n",
              "    }\n",
              "</style>\n",
              "<table border=\"1\" class=\"dataframe\">\n",
              "  <thead>\n",
              "    <tr style=\"text-align: right;\">\n",
              "      <th></th>\n",
              "      <th>x1</th>\n",
              "      <th>x2</th>\n",
              "      <th>y</th>\n",
              "    </tr>\n",
              "  </thead>\n",
              "  <tbody>\n",
              "    <tr>\n",
              "      <th>0</th>\n",
              "      <td>163.617464</td>\n",
              "      <td>4341510000</td>\n",
              "      <td>1.15</td>\n",
              "    </tr>\n",
              "    <tr>\n",
              "      <th>1</th>\n",
              "      <td>175.289575</td>\n",
              "      <td>4652390000</td>\n",
              "      <td>1.20</td>\n",
              "    </tr>\n",
              "    <tr>\n",
              "      <th>2</th>\n",
              "      <td>173.594549</td>\n",
              "      <td>4671060000</td>\n",
              "      <td>1.29</td>\n",
              "    </tr>\n",
              "    <tr>\n",
              "      <th>3</th>\n",
              "      <td>169.451697</td>\n",
              "      <td>4765490000</td>\n",
              "      <td>1.19</td>\n",
              "    </tr>\n",
              "    <tr>\n",
              "      <th>4</th>\n",
              "      <td>158.349901</td>\n",
              "      <td>5113640000</td>\n",
              "      <td>1.25</td>\n",
              "    </tr>\n",
              "  </tbody>\n",
              "</table>\n",
              "</div>"
            ],
            "text/plain": [
              "           x1          x2     y\n",
              "0  163.617464  4341510000  1.15\n",
              "1  175.289575  4652390000  1.20\n",
              "2  173.594549  4671060000  1.29\n",
              "3  169.451697  4765490000  1.19\n",
              "4  158.349901  5113640000  1.25"
            ]
          },
          "metadata": {
            "tags": []
          },
          "execution_count": 13
        }
      ]
    },
    {
      "cell_type": "code",
      "metadata": {
        "id": "yRQ1zm0Tujh3"
      },
      "source": [
        "x = df[['x1', 'x2']]\n",
        "y = df['y']\n",
        "\n",
        "x = np.array(x)\n",
        "y = np.array(y)"
      ],
      "execution_count": null,
      "outputs": []
    },
    {
      "cell_type": "code",
      "metadata": {
        "id": "ZPGfUhqHulvi"
      },
      "source": [
        "model = LinearRegression()"
      ],
      "execution_count": null,
      "outputs": []
    },
    {
      "cell_type": "code",
      "metadata": {
        "colab": {
          "base_uri": "https://localhost:8080/"
        },
        "id": "PCbd7locuntW",
        "outputId": "933bfed3-d2cd-49fb-dfe6-a5e274c7aab9"
      },
      "source": [
        "model.fit(x,y)"
      ],
      "execution_count": null,
      "outputs": [
        {
          "output_type": "execute_result",
          "data": {
            "text/plain": [
              "LinearRegression(copy_X=True, fit_intercept=True, n_jobs=None, normalize=False)"
            ]
          },
          "metadata": {
            "tags": []
          },
          "execution_count": 16
        }
      ]
    },
    {
      "cell_type": "code",
      "metadata": {
        "colab": {
          "base_uri": "https://localhost:8080/"
        },
        "id": "tapzx-6P6BsE",
        "outputId": "0a939724-51a6-4d6d-e926-9008d168a7be"
      },
      "source": [
        "model.predict([[130.838816, 9332660000]])"
      ],
      "execution_count": null,
      "outputs": [
        {
          "output_type": "execute_result",
          "data": {
            "text/plain": [
              "array([1.13868443])"
            ]
          },
          "metadata": {
            "tags": []
          },
          "execution_count": 17
        }
      ]
    },
    {
      "cell_type": "code",
      "metadata": {
        "colab": {
          "base_uri": "https://localhost:8080/"
        },
        "id": "hIw7R_Dt7qPf",
        "outputId": "d0bc8bc0-15d3-471a-d6d3-f5422f1edd58"
      },
      "source": [
        "model.get_params()"
      ],
      "execution_count": null,
      "outputs": [
        {
          "output_type": "execute_result",
          "data": {
            "text/plain": [
              "{'copy_X': True, 'fit_intercept': True, 'n_jobs': None, 'normalize': False}"
            ]
          },
          "metadata": {
            "tags": []
          },
          "execution_count": 18
        }
      ]
    },
    {
      "cell_type": "markdown",
      "metadata": {
        "id": "7ZWZK_ao6Mlt"
      },
      "source": [
        "Find the Minimum X1 (Average Grant) to have a postive 0.5% increase in Fertility Rate"
      ]
    },
    {
      "cell_type": "code",
      "metadata": {
        "id": "BPe14uXgupgn"
      },
      "source": [
        "val = 0 #Fertility Rate\n",
        "target = 1.14 * 1.01 #Target Fertility Rate, Start @ 2019 (Fertility Rate = 1.4) * 0.5% Increase\n",
        "x2_value_list = [9191310000, 10248170000, 10958080000, 11660560000, 12382280000, 12968520000] # Index 0 = 2020"
      ],
      "execution_count": null,
      "outputs": []
    },
    {
      "cell_type": "code",
      "metadata": {
        "colab": {
          "base_uri": "https://localhost:8080/"
        },
        "id": "NI6KGnmawedB",
        "outputId": "74260f98-0d23-46cc-e511-01139a959126"
      },
      "source": [
        "year = 2020\n",
        "for i in range(len(x2_value_list)):\n",
        "  x2_value = x2_value_list[i]\n",
        "  x1_value = 0 # Average Grant Amount (Reset)\n",
        "  while val <= target:\n",
        "    val = model.predict([[x1_value, x2_value]])\n",
        "    x1_value = x1_value + 0.01\n",
        "    # Average Grant Amount, Increment of 1 cent\n",
        "\n",
        "  print('%d : %.2f, %d - Fertility Rate = %f.4' % (year, x1_value, x2_value, val))\n",
        "  year += 1\n",
        "  target = target * 1.01\n"
      ],
      "execution_count": null,
      "outputs": [
        {
          "output_type": "stream",
          "text": [
            "2020 : 307.64, 9191310000 - Fertility Rate = 1.151400.4\n",
            "2021 : 811.78, 10248170000 - Fertility Rate = 1.162914.4\n",
            "2022 : 1217.15, 10958080000 - Fertility Rate = 1.174543.4\n",
            "2023 : 1622.35, 11660560000 - Fertility Rate = 1.186289.4\n",
            "2024 : 2035.16, 12382280000 - Fertility Rate = 1.198152.4\n",
            "2025 : 2410.65, 12968520000 - Fertility Rate = 1.210133.4\n"
          ],
          "name": "stdout"
        }
      ]
    }
  ]
}